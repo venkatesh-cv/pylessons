{
 "cells": [
  {
   "cell_type": "code",
   "execution_count": null,
   "metadata": {},
   "outputs": [],
   "source": [
    "greeting = \"hello world\"\n",
    "aNumber = 1\n",
    "aString = str(aNumber)\n",
    "anotherNumber = int(aString)\n",
    "print(greeting)\n",
    "print(aString)\n",
    "print(anotherNumber)\n",
    "print(anotherNumber == aNumber)\n",
    "print(aNumber == aString)\n",
    "print(id(aNumber))\n",
    "aNumber = 10\n",
    "print(id(aNumber))\n",
    "print(greeting.upper())\n",
    "print(\"hey there\".upper())\n",
    "print(greeting.capitalize())\n",
    "type(aNumber) == type(1)\n",
    "print(greeting.split(' 1')[0])\n",
    "print(\"%s and %s together is %s\" % ('hello', 'world', 'hello'+'world')) # note that % is an interpolation function quite literally like %(args...\n",
    "print(\"interpolation of %%s is %s\" % \"hi\") #  note how the paranthesis is skipped if there is just 1 argument.\n",
    "print(\"%i is an integer and %.2f is a float function\" %(1.0, 20000.0)) # note how the formats are all like C. \n",
    "print(\"%(name)s is %(age)i years old\" %({\"name\":\"VC\" ,\"age\": 48}))  # you could call the % function as a function or skip the brackets and pass the hash object directly since its just 1 arg.. the hash/key-value-pair-object"
   ]
  },
  {
   "cell_type": "code",
   "execution_count": null,
   "metadata": {},
   "outputs": [],
   "source": [
    "# lists in python are not type safe. Just like java List = new List() object\n",
    "my_list = []\n",
    "my_list = list()\n",
    "my_list = [1,2, \"hi\"]\n",
    "print(my_list)\n",
    "\n",
    "another_list = ['there', 23]\n",
    "my_list.extend(another_list)\n",
    "print(my_list)\n",
    "\n",
    "yet_another_list = [1,2,3]\n",
    "my_list += yet_another_list\n",
    "print(my_list)\n",
    "\n",
    "my_list.append(5)\n",
    "print(my_list)\n",
    "\n",
    "print(my_list[8])\n",
    "\n",
    "print(my_list.pop())\n",
    "print(my_list)\n",
    "\n",
    "print(my_list[0:3]) # array access of a list. Print 3 elements from 0th index\n",
    "print(my_list)"
   ]
  },
  {
   "cell_type": "code",
   "execution_count": null,
   "metadata": {},
   "outputs": [],
   "source": [
    "#tuples are immutable lists\n",
    "# they take up lesser memmory than Lists and are faster.\n",
    "# this is suitable for operations that fetch data from data sources.\n",
    "my_tuple = (1,2,\"hi\") # see how round brackets are used instead of square. \n",
    "print(my_tuple)\n",
    "print(my_tuple[0:2]) # this is like an array access of a list\n",
    "print(my_tuple)"
   ]
  },
  {
   "cell_type": "code",
   "execution_count": 45,
   "metadata": {},
   "outputs": [
    {
     "name": "stdout",
     "output_type": "stream",
     "text": [
      "{'name': 'john', 'age': 25}\n",
      "john\n",
      "undefined\n",
      "{'name': 'john', 'age': 25, 'gender': 'undefined'}\n",
      "Is there an entry for name in the dictionary True\n"
     ]
    }
   ],
   "source": [
    "#dictionaries are the key value pair objects\n",
    "akvpObject = dict()\n",
    "akvpObject = {\"name\":\"john\", \"age\":25}\n",
    "print (akvpObject)\n",
    "print(akvpObject[\"name\"])\n",
    "akvpObject.update({\"gender\": \"undefined\"})\n",
    "print(akvpObject[\"gender\"])\n",
    "print(akvpObject)\n",
    "print(\"Is there an entry for name in the dictionary %s\" % (\"name\" in akvpObject))\n",
    "print(\"SLOWER VERSION OF Is there an entry for name in the dictionary %s\" % (\"name\" in akvpObject.keys()))"
   ]
  },
  {
   "cell_type": "code",
   "execution_count": null,
   "metadata": {},
   "outputs": [],
   "source": [
    "dir(\"greeting\") # prints the functions available for a number"
   ]
  }
 ],
 "metadata": {
  "kernelspec": {
   "display_name": "Python 3",
   "language": "python",
   "name": "python3"
  },
  "language_info": {
   "codemirror_mode": {
    "name": "ipython",
    "version": 3
   },
   "file_extension": ".py",
   "mimetype": "text/x-python",
   "name": "python",
   "nbconvert_exporter": "python",
   "pygments_lexer": "ipython3",
   "version": "3.10.9"
  },
  "orig_nbformat": 4,
  "vscode": {
   "interpreter": {
    "hash": "b0fa6594d8f4cbf19f97940f81e996739fb7646882a419484c72d19e05852a7e"
   }
  }
 },
 "nbformat": 4,
 "nbformat_minor": 2
}
