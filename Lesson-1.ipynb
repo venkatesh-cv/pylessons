{
 "cells": [
  {
   "attachments": {},
   "cell_type": "markdown",
   "metadata": {},
   "source": [
    "# Print statements "
   ]
  },
  {
   "cell_type": "code",
   "execution_count": 3,
   "metadata": {},
   "outputs": [
    {
     "name": "stdout",
     "output_type": "stream",
     "text": [
      "hello world\n",
      "1\n",
      "1\n",
      "True\n",
      "False\n",
      "4315847288\n",
      "4315847576\n",
      "HELLO WORLD\n",
      "HEY THERE\n",
      "Hello world\n",
      "hello world\n",
      "hello and world together is helloworld\n",
      "interpolation of %s is hi\n",
      "1 is an integer and 20000.00 is a float function\n",
      "VC is 48 years old\n"
     ]
    }
   ],
   "source": [
    "greeting = \"hello world\"\n",
    "aNumber = 1\n",
    "aString = str(aNumber)\n",
    "anotherNumber = int(aString)\n",
    "print(greeting)\n",
    "print(aString)\n",
    "print(anotherNumber)\n",
    "print(anotherNumber == aNumber)\n",
    "print(aNumber == aString)\n",
    "print(id(aNumber))\n",
    "aNumber = 10\n",
    "print(id(aNumber))\n",
    "print(greeting.upper())\n",
    "print(\"hey there\".upper())\n",
    "print(greeting.capitalize())\n",
    "type(aNumber) == type(1)\n",
    "print(greeting.split(' 1')[0])\n",
    "print(\"%s and %s together is %s\" % ('hello', 'world', 'hello'+'world')) # note that % is an interpolation function quite literally like %(args...\n",
    "print(\"interpolation of %%s is %s\" % \"hi\") #  note how the paranthesis is skipped if there is just 1 argument.\n",
    "print(\"%i is an integer and %.2f is a float function\" %(1.0, 20000.0)) # note how the formats are all like C. \n",
    "print(\"%(name)s is %(age)i years old\" %({\"name\":\"VC\" ,\"age\": 48}))  # you could call the % function as a function or skip the brackets and pass the hash object directly since its just 1 arg.. the hash/key-value-pair-object"
   ]
  },
  {
   "attachments": {},
   "cell_type": "markdown",
   "metadata": {},
   "source": [
    "#list []"
   ]
  },
  {
   "cell_type": "code",
   "execution_count": null,
   "metadata": {},
   "outputs": [],
   "source": [
    "# lists in python are not type safe. Just like java List = new List() object\n",
    "my_list = []\n",
    "my_list = list()\n",
    "my_list = [1,2, \"hi\"]\n",
    "print(my_list)\n",
    "\n",
    "another_list = ['there', 23]\n",
    "my_list.extend(another_list)\n",
    "print(my_list)\n",
    "\n",
    "yet_another_list = [1,2,3]\n",
    "my_list += yet_another_list\n",
    "print(my_list)\n",
    "\n",
    "my_list.append(5)\n",
    "print(my_list)\n",
    "\n",
    "print(my_list[8])\n",
    "\n",
    "print(my_list.pop())\n",
    "print(my_list)\n",
    "\n",
    "print(my_list[0:3]) # array access of a list. Print 3 elements from 0th index\n",
    "print(my_list)\n",
    "\n",
    "print (\"length of the list my_list is %i\" % len(my_list)) # note the standalone function len"
   ]
  },
  {
   "attachments": {},
   "cell_type": "markdown",
   "metadata": {},
   "source": [
    "# Tuples ()"
   ]
  },
  {
   "cell_type": "code",
   "execution_count": null,
   "metadata": {},
   "outputs": [],
   "source": [
    "#tuples are immutable lists\n",
    "# they take up lesser memmory than Lists and are faster.\n",
    "# this is suitable for operations that fetch data from data sources.\n",
    "my_tuple = (1,2,\"hi\") # see how round brackets are used instead of square. \n",
    "print(my_tuple)\n",
    "print(my_tuple[0:2]) # this is like an array access of a list\n",
    "print(my_tuple)\n",
    "print(\"length of my tuple is %i\" % len(my_tuple))"
   ]
  },
  {
   "attachments": {},
   "cell_type": "markdown",
   "metadata": {},
   "source": [
    "#dictionaries {}"
   ]
  },
  {
   "cell_type": "code",
   "execution_count": null,
   "metadata": {},
   "outputs": [],
   "source": [
    "#dictionaries are the key value pair objects\n",
    "akvpObject = dict()\n",
    "akvpObject = {\"name\":\"john\", \"age\":25}\n",
    "print (akvpObject)\n",
    "print(akvpObject[\"name\"])\n",
    "akvpObject.update({\"gender\": \"undefined\"})\n",
    "print(akvpObject[\"gender\"])\n",
    "print(akvpObject)\n",
    "print(\"Is there an entry for name in the dictionary %s\" % (\"name\" in akvpObject))\n",
    "print(\"SLOWER VERSION OF Is there an entry for name in the dictionary %s\" % (\"name\" in akvpObject.keys()))\n",
    "print(\"length of my key value pair dictionary is %i\" % len(akvpObject))"
   ]
  },
  {
   "attachments": {},
   "cell_type": "markdown",
   "metadata": {},
   "source": [
    "# Help utility dir and help"
   ]
  },
  {
   "cell_type": "code",
   "execution_count": null,
   "metadata": {},
   "outputs": [],
   "source": [
    "dir(\"greeting\") # prints the functions available for a number"
   ]
  },
  {
   "attachments": {},
   "cell_type": "markdown",
   "metadata": {},
   "source": [
    "# if then else"
   ]
  },
  {
   "cell_type": "code",
   "execution_count": null,
   "metadata": {},
   "outputs": [],
   "source": [
    "# if else\n",
    "if 1 > 2 :\n",
    "    print(\"whoa whats up\")\n",
    "elif 2 > 3 :\n",
    "    print (\" of course its not true\")\n",
    "else: \n",
    "    print ('oh my god, stop it. Its not true')"
   ]
  },
  {
   "cell_type": "code",
   "execution_count": null,
   "metadata": {},
   "outputs": [],
   "source": [
    "# nulls nothing\n",
    "nothing = None \n",
    "empty = []\n",
    "gaali = ()\n",
    "sutham = {}\n",
    "\n",
    "print (nothing is None)\n",
    "if nothing or empty or gaali or sutham:\n",
    "    print(\"its not empty\")\n",
    "elif not empty or not gaali or not sutham:\n",
    "    print (\"its not empty\")\n",
    "else:\n",
    "    print(\"its empty\")"
   ]
  },
  {
   "attachments": {},
   "cell_type": "markdown",
   "metadata": {},
   "source": [
    "# main method"
   ]
  },
  {
   "cell_type": "code",
   "execution_count": null,
   "metadata": {},
   "outputs": [],
   "source": [
    "# use this only to run a module as a standalone file\n",
    "if __name__ == \"__main__\":\n",
    "    print(\"running in standalone mode\")\n",
    "    #call the main entry point or something"
   ]
  },
  {
   "cell_type": "code",
   "execution_count": null,
   "metadata": {},
   "outputs": [],
   "source": [
    "# for loops\n",
    "for number in range(5):\n",
    "    print (number)\n",
    "for number in range (4,20, 2):\n",
    "    print (number)\n",
    "\n",
    "for key in {\"name\":\"john\", \"age\":25, \"gender\":\"male\"}:\n",
    "    print(key)\n",
    "\n",
    "aDictionary = {\"name\":\"john\", \"age\":25, \"gender\":\"male\"}\n",
    "sortedKeys = sorted(aDictionary.keys()) # note the stand alone function sorted\n",
    "for key in sortedKeys:\n",
    "    print (key)\n",
    "    print (aDictionary[key])"
   ]
  },
  {
   "cell_type": "code",
   "execution_count": null,
   "metadata": {},
   "outputs": [],
   "source": [
    "#while loop\n",
    "i = 0\n",
    "while i < 10:\n",
    "    i += 1;\n",
    "    if (i == 5):\n",
    "        continue;\n",
    "    print (i)\n",
    "avengers = [\"hulk\", \"captain america\", \"iron man\", \"spider man\", \"captain marvel\", \"black widow\"]\n",
    "\n",
    "for member in avengers:\n",
    "    if (member.lower() == \"super man\"):\n",
    "        print (\"found a mistake. Super man is not an avenger\")\n",
    "        break;\n",
    "else:\n",
    "    print (\"all avengers are good\")"
   ]
  },
  {
   "attachments": {},
   "cell_type": "markdown",
   "metadata": {},
   "source": [
    "# comprehensions"
   ]
  },
  {
   "cell_type": "code",
   "execution_count": null,
   "metadata": {},
   "outputs": [],
   "source": [
    "# comprehensions\n",
    "\n",
    "# List comprehensions\n",
    "x = [i for i in range(10)]   # creates a list of integers ranging 0 to 9\n",
    "\n",
    "characters = ['mary jane', 'peter parker', 'dr. octopus', 'sorry mary']\n",
    "if([name for name in characters if \"mary\" in name]): # this is similar to the forloop with an if condition checking if there is a name with mary in it and i fso adding it to a list that is returned and used in an if statement\n",
    "    print(\"Found 1 or more names\")\n",
    "\n",
    "maries = [name for name in characters if \"mary\" in name]\n",
    "print(maries)"
   ]
  },
  {
   "cell_type": "code",
   "execution_count": null,
   "metadata": {},
   "outputs": [],
   "source": [
    "# comprehensions in dictionaries\n",
    "myDictionary  = {\"name\":\"peter parker\", \"age\":25, \"gender\":\"male\"}\n",
    "print ({value:key for key,value in myDictionary.items()}) # seee how the dictionary items are being emitted and flipped into a new dictionary"
   ]
  },
  {
   "cell_type": "code",
   "execution_count": null,
   "metadata": {},
   "outputs": [],
   "source": [
    "# file operations\n",
    "fileHandle = None\n",
    "try:\n",
    "    fileHandle = open(r\"/Users/cvenkatesh/src/github/pylessons/testfile.csv\", \"r\")\n",
    "    fileContents = fileHandle.read() # read the entire file into memory\n",
    "    print(fileContents)\n",
    "    fileHandle.seek(0) # reset file point to the start of the file. \n",
    "    for content in fileHandle:  # note how for loop automatically reads a line from the file Handle without being to to do so explicitly\n",
    "        print(content)\n",
    "finally:\n",
    "    fileHandle.close()\n",
    "\n",
    "try:\n",
    "    with open(r\"/Users/cvenkatesh/src/github/pylessons/testfile.csv\") as fileHandle: # helps take care of file closure.\n",
    "        for content in fileHandle:\n",
    "            print(content.strip(\"\\n\"))\n",
    "except IOError:\n",
    "    print(\"Error occured opening file %s\" % IOError.strerror())\n",
    "\n",
    "print(\"\\n-- list of names starting with peter --\")\n",
    "try:\n",
    "    listOfLines = None\n",
    "    with open(r\"/Users/cvenkatesh/src/github/pylessons/testfile.csv\") as fileHandle:\n",
    "        listOfLines = [line for line in fileHandle if  line.split(',')[0].lower().startswith('peter')] # build a list of lines from the file that have the first column name starting with peter    \n",
    "    for line in listOfLines: print(line.strip(\"\\n\"))\n",
    "except IOError:\n",
    "    print(\"error processing file\")"
   ]
  },
  {
   "cell_type": "code",
   "execution_count": null,
   "metadata": {},
   "outputs": [],
   "source": [
    "# functions\n",
    "def addNumbers(a,b =2, c = 3):\n",
    "    return a+b+c\n",
    "\n",
    "print(\"calling with just 1 as arg gives %i because other 2 values are defaults of 2 and 3\" % addNumbers(1))\n",
    "print(\"calling with just 1 and 1 as arg gives %i because third one has a default of 3\" % addNumbers(1, b = 1))\n",
    "\n",
    "def varArgs(*args, **keywordArgs):  # see how one is a pointer to an object and the other is a ptr to a ptr of an obj\n",
    "    print(args)\n",
    "    print(keywordArgs)\n",
    "\n",
    "varArgs(\"Jamie\", \"johnnie\", name = \"peter parker\", gender = \"male\")"
   ]
  },
  {
   "cell_type": "code",
   "execution_count": 1,
   "metadata": {},
   "outputs": [
    {
     "name": "stdout",
     "output_type": "stream",
     "text": [
      "car\n",
      "Volkswagen\n",
      "blue\n",
      "red\n",
      "1687675965.799776\n",
      "yellow\n"
     ]
    },
    {
     "ename": "AttributeError",
     "evalue": "'Vehicle' object has no attribute '__privateOnly_instantiatedOn'",
     "output_type": "error",
     "traceback": [
      "\u001b[0;31m---------------------------------------------------------------------------\u001b[0m",
      "\u001b[0;31mAttributeError\u001b[0m                            Traceback (most recent call last)",
      "Cell \u001b[0;32mIn[1], line 59\u001b[0m\n\u001b[1;32m     57\u001b[0m car\u001b[39m.\u001b[39mcolor \u001b[39m=\u001b[39m \u001b[39m\"\u001b[39m\u001b[39myellow\u001b[39m\u001b[39m\"\u001b[39m\n\u001b[1;32m     58\u001b[0m \u001b[39mprint\u001b[39m(car\u001b[39m.\u001b[39mcolor)\n\u001b[0;32m---> 59\u001b[0m \u001b[39mprint\u001b[39m(car\u001b[39m.\u001b[39;49m__privateOnly_instantiatedOn) \u001b[39m# attempt to access a private member will give error\u001b[39;00m\n\u001b[1;32m     60\u001b[0m car\u001b[39m.\u001b[39m__privateMethod()\n",
      "\u001b[0;31mAttributeError\u001b[0m: 'Vehicle' object has no attribute '__privateOnly_instantiatedOn'"
     ]
    }
   ],
   "source": [
    "# classess\n",
    "import time\n",
    "\n",
    "class Vehicle:\n",
    "    \"\"\"vehicle helps transport people, goods or living things from one place to another\"\"\"\n",
    "\n",
    "    __privateOnly_instantiatedOn = None # double underscore tells users to not touch these members\n",
    "    _name = None #protected members with one underscore\n",
    "    _color = None\n",
    "    _wheels = None\n",
    "\n",
    "    def __init__(self, name, color, wheels):\n",
    "        self._name = name\n",
    "        self._color = color\n",
    "        self._wheels = wheels  # note the danger of typos resulting in new variables\n",
    "        self.__privateOnly_instantiatedOn = time.time()\n",
    "    \n",
    "    @property  # annotation or decorator makes it easy invoke methods like attributes\n",
    "    def name(self):\n",
    "        return self._name\n",
    "    \n",
    "    @name.setter\n",
    "    def name(self, newName):\n",
    "        self._name = newName\n",
    "    \n",
    "    @property\n",
    "    def color(self):\n",
    "        return self._color\n",
    "    \n",
    "    @color.setter\n",
    "    def color(self, newColor):\n",
    "        self._color = newColor\n",
    "    \n",
    "    @property\n",
    "    def wheels(self):\n",
    "        return self._wheels\n",
    "    \n",
    "    @wheels.setter\n",
    "    def wheels(self, newWheelCount):\n",
    "        self._wheels = newWheelCount\n",
    "\n",
    "    def whenWasThisCreated(self):\n",
    "        return self.__privateOnly_instantiatedOn\n",
    "\n",
    "    def __privateMethod(self):\n",
    "        pass\n",
    "\n",
    "if __name__ == \"__main__\":\n",
    "    car = Vehicle(name=\"car\", color = \"blue\", wheels=4)\n",
    "    print(car.name)\n",
    "    car.name = \"Volkswagen\"\n",
    "    print(car.name)\n",
    "    car.colour = \"red\" # note how typos can result in new variables. Be careful\n",
    "    print(car.color)\n",
    "    print(car.colour)\n",
    "    print(car.whenWasThisCreated())\n",
    "    car.color = \"yellow\"\n",
    "    print(car.color)\n",
    "    print(car.__privateOnly_instantiatedOn) # attempt to access a private member will give error\n",
    "    car.__privateMethod()"
   ]
  },
  {
   "cell_type": "code",
   "execution_count": null,
   "metadata": {},
   "outputs": [],
   "source": [
    "import time\n",
    "\n",
    "class Vehicle:\n",
    "    \"\"\"vehicle helps transport people, goods or living things from one place to another\"\"\"\n",
    "\n",
    "    __privateOnly_instantiatedOn = None # double underscore tells users to not touch these members\n",
    "    _name = None #protected members with one underscore\n",
    "    _color = None\n",
    "    _wheels = None\n",
    "\n",
    "    def __init__(self, name, color, wheels):\n",
    "        self._name = name\n",
    "        self._color = color\n",
    "        self._wheels = wheels  # note the danger of typos resulting in new variables\n",
    "        self.__privateOnly_instantiatedOn = time.time()\n",
    "    \n",
    "    @property  # annotation or decorator makes it easy invoke methods like attributes\n",
    "    def name(self):\n",
    "        return self._name\n",
    "    \n",
    "    @name.setter\n",
    "    def name(self, newName):\n",
    "        self._name = newName\n",
    "    \n",
    "    @property\n",
    "    def color(self):\n",
    "        return self._color\n",
    "    \n",
    "    @color.setter\n",
    "    def color(self, newColor):\n",
    "        self._color = newColor\n",
    "    \n",
    "    @property\n",
    "    def wheels(self):\n",
    "        return self._wheels\n",
    "    \n",
    "    @wheels.setter\n",
    "    def wheels(self, newWheelCount):\n",
    "        self._wheels = newWheelCount\n",
    "\n",
    "    def whenWasThisCreated(self):\n",
    "        return self.__privateOnly_instantiatedOn\n",
    "\n",
    "    def __privateMethod(self):\n",
    "        pass\n",
    "\n",
    "class Car(Vehicle):\n",
    "    \"\"\"Child class of vehicle that is a specialized 4 wheeler meant to transport people\"\"\"\n",
    "    def __init__(self, name, color):\n",
    "        super().__init__(name, color, 4)\n",
    "\n",
    "if __name__ == \"__main__\":\n",
    "    ciaz = Car(\"Suzuki Ciaz\", \"red\")\n",
    "    print(\"%s - %s - %i\" % (ciaz.name, ciaz.color, ciaz.wheels))"
   ]
  },
  {
   "cell_type": "code",
   "execution_count": null,
   "metadata": {},
   "outputs": [],
   "source": [
    "import csv\n",
    "\n",
    "def printFile(fileObject):\n",
    "    fileContents = csv.reader(fileObject)\n",
    "    for line in fileContents:\n",
    "        print(line)\n",
    "\n",
    "def printFileUsingDictReader(fileObject):\n",
    "    fileContents = csv.DictReader(fileObject,delimiter=\",\")\n",
    "    for line in fileContents:\n",
    "        print(line['name'])\n",
    "\n",
    "if __name__ == \"__main__\":\n",
    "    with open(r\"/Users/cvenkatesh/src/github/pylessons/testfile.csv\", \"r\") as fileObject:\n",
    "        printFile(fileObject=fileObject)\n",
    "        fileObject.seek(0)\n",
    "        printFileUsingDictReader(fileObject=fileObject)"
   ]
  },
  {
   "cell_type": "code",
   "execution_count": null,
   "metadata": {},
   "outputs": [],
   "source": [
    "help(\"\".join)"
   ]
  },
  {
   "cell_type": "code",
   "execution_count": null,
   "metadata": {},
   "outputs": [],
   "source": [
    "# config file\n",
    "import configparser\n",
    "\n",
    "def createConfig():\n",
    "    parser = configparser.ConfigParser()\n",
    "    parser.add_section(\"settings\")\n",
    "    parser.set(\"settings\", \"setting1\", \"On\")\n",
    "    parser.set(\"settings\", \"setting2\", \"25\")\n",
    "    return parser;\n",
    "\n",
    "def fileWriter(filePath):\n",
    "    with open(filePath, \"w\") as fileHandle:\n",
    "        createConfig().write(fileHandle)\n",
    "\n",
    "def configReader(filePath):\n",
    "    config = None\n",
    "    with open(filePath, \"r\") as fileHandle:\n",
    "        config = configparser.ConfigParser()\n",
    "        config.read_file(fileHandle)\n",
    "    print(config.get(\"settings\",\"setting2\")) # note that the config is now a memory object and file has been closed\n",
    "\n",
    "if __name__ == \"__main__\":\n",
    "    filePath = r\"/Users/cvenkatesh/src/github/pylessons/testfile.ini\"\n",
    "    fileWriter(filePath=filePath)\n",
    "    configReader(filePath)"
   ]
  },
  {
   "cell_type": "code",
   "execution_count": null,
   "metadata": {},
   "outputs": [],
   "source": [
    "# log_with_config.py\n",
    "import logging\n",
    "import logging.config\n",
    "import otherModule\n",
    "\n",
    "def main():\n",
    "    \"\"\"\n",
    "    Based on http://docs.python.org/howto/logging.html#configuring-logging\n",
    "    \"\"\"\n",
    "    logging.config.fileConfig('logging.conf')\n",
    "    logger = logging.getLogger(\"exampleApp\")\n",
    "\n",
    "    logger.info(\"Program started\")\n",
    "    result = otherModule.add(7, 8)\n",
    "    logger.info(\"Done!\")\n",
    "\n",
    "if __name__ == \"__main__\":\n",
    "    main()\n"
   ]
  },
  {
   "cell_type": "code",
   "execution_count": null,
   "metadata": {},
   "outputs": [],
   "source": [
    "import sqlalchemy\n",
    "print (sqlalchemy.__version__)"
   ]
  },
  {
   "cell_type": "code",
   "execution_count": null,
   "metadata": {},
   "outputs": [],
   "source": [
    "import logging\n",
    "import logging.config\n",
    "import sqlite3\n",
    "\n",
    "def buildLogger():\n",
    "    logging.config.fileConfig('logging.conf')\n",
    "    logger = logging.getLogger(\"exampleApp\")\n",
    "    logger.info(\"Logger initialized for exampleApp\")\n",
    "\n",
    "\n",
    "def main():\n",
    "    buildLogger()\n",
    "    logger = logging.getLogger(\"exampleApp.main\")\n",
    "    connection = None\n",
    "    try:\n",
    "        connection = sqlite3.Connection(\"myDb.db\")\n",
    "        connection.row_factory = sqlite3.Row\n",
    "        cursor = connection.cursor();\n",
    "        logger.info(\"Trying to create a table USERS\")\n",
    "        createTableIfNotExists(cursor)\n",
    "        cleanupAllData(cursor)\n",
    "        insertData(cursor)\n",
    "        connection.commit()\n",
    "        queryAndPrintResults(cursor)\n",
    "    finally:\n",
    "        connection.close()\n",
    "\n",
    "def queryAndPrintResults(cursor):\n",
    "    query = \"select * from users\"\n",
    "    results = cursor.execute(query).fetchall()\n",
    "    for row in results:\n",
    "        print(\"name: %s\" % row[\"name\"])\n",
    "        print(\"age: %i\" % row[\"age\"])\n",
    "        print(\"gender: %s\" % row[\"gender\"])\n",
    "        print(\"----------------------\")\n",
    "\n",
    "def insertData(cursor):\n",
    "    logger = logging.getLogger(\"exampleApp.insertData\")\n",
    "    insertData = \"INSERT INTO USERS VALUES('Dr Octopus',55,'Male')\"\n",
    "    cursor.execute(insertData)\n",
    "    logger.info(\"inserted a single row\")\n",
    "    multipleRows = {\"name\":\"Peter Parker\", \"age\":25, \"gender\":\"male\"}, {\"name\":\"mary jane\", \"age\":25, \"gender\":\"female\"}\n",
    "    cursor.executemany(\"INSERT INTO USERS(name,age,gender) VALUES(:name, :age, :gender)\", multipleRows)\n",
    "    logger.info(\"inserted a couple of rows in one batch\")\n",
    "\n",
    "def cleanupAllData(cursor):\n",
    "    logger = logging.getLogger(\"exampleApp.cleanupAllData\")\n",
    "    truncateTable = \"delete from users\"\n",
    "    cursor.execute(truncateTable)\n",
    "    logger.info(\"cleaned up users\")\n",
    "\n",
    "def createTableIfNotExists(cursor):\n",
    "    logger = logging.getLogger(\"exampleApp.createTableIfNotExists\")\n",
    "    try:\n",
    "        createTable = \"CREATE TABLE IF NOT EXISTS USERS (NAME TEXT, AGE NUMBER, GENDER TEXT)\"\n",
    "        cursor.execute(createTable)\n",
    "    except sqlite3.OperationalError as e:\n",
    "        logger.error(\"Table likely already exists or some other error. Moving on\")\n",
    "        logger.exception*(e)\n",
    "\n",
    "if __name__ == \"__main__\":\n",
    "    main()"
   ]
  },
  {
   "cell_type": "code",
   "execution_count": null,
   "metadata": {},
   "outputs": [],
   "source": [
    "import subprocess\n",
    "if(not subprocess.call([\"nslookup\",\"www.google.com\"])):  # this can become dangerous if shell input is constructed from external input. To avoid shell injection such practices are discouraged\n",
    "    print(\"completed OK\")\n",
    "\n",
    "phandle = subprocess.Popen([\"nslookup\", \"www.amazon.com\"])\n",
    "print(\"completed Popen\")\n",
    "\n",
    "\n",
    "phandle = subprocess.Popen([\"nslookup\", \"www.google.com\"])\n",
    "presult = phandle.wait()\n",
    "print(\"result of popen %(pid)i with wait is %(presult)s\" % {\"pid\":phandle.pid, \"presult\":presult})\n"
   ]
  },
  {
   "attachments": {},
   "cell_type": "markdown",
   "metadata": {},
   "source": [
    "# communicating with a subprocess. Getting the data back for processing"
   ]
  },
  {
   "cell_type": "code",
   "execution_count": null,
   "metadata": {},
   "outputs": [],
   "source": [
    "import subprocess\n",
    "phandle = subprocess.Popen([\"nslookup\", \"www.cnn.com\"], stdout=subprocess.PIPE)\n",
    "data = phandle.communicate()\n",
    "presult = phandle.wait()\n",
    "splitData = str(data[0]).split(r\"\\n\")\n",
    "for line in splitData:\n",
    "    print(line)"
   ]
  },
  {
   "attachments": {},
   "cell_type": "markdown",
   "metadata": {},
   "source": [
    "# THREADS"
   ]
  },
  {
   "cell_type": "code",
   "execution_count": null,
   "metadata": {},
   "outputs": [],
   "source": [
    "from threading import Thread\n",
    "import urllib.request\n",
    "import validators\n",
    "import time\n",
    "import os\n",
    "import threading\n",
    "\n",
    "class Downloader(Thread):\n",
    "    _url = None\n",
    "\n",
    "    def __init__(self, name, url ):\n",
    "        super().__init__(name=name)\n",
    "        if not url or not validators.url(url):\n",
    "            print(\"a valid url is needed\")\n",
    "        self._url = url\n",
    "        self.daemon = True\n",
    "\n",
    "    @property\n",
    "    def url(self):\n",
    "        return self._url\n",
    "\n",
    "    @url.setter\n",
    "    def url(self, url):\n",
    "        self._url = url;\n",
    "    \n",
    "    \n",
    "    def run(self):\n",
    "        print(\"starting download of %s \\n\" % self.url)\n",
    "        handle = urllib.request.urlopen(self.url)\n",
    "        with open(os.path.basename(self.url), \"wb\") as fileHandle:\n",
    "            while True:\n",
    "                text = handle.read(1024)\n",
    "                if(not text):\n",
    "                    break\n",
    "                fileHandle.write(text)\n",
    "        print(\"%s is done \\n\" % self.url)\n",
    "\n",
    "def initDownloads(urls: set()):\n",
    "    counter = 0\n",
    "    for url in urls:\n",
    "        counter+=1\n",
    "        newThread = Downloader(str(counter), url)\n",
    "        newThread.start()\n",
    "\n",
    "    \n",
    "\n",
    "if __name__ == \"__main__\":\n",
    "    urls = [\"http://www.irs.gov/pub/irs-pdf/f1040.pdf\",\n",
    "            \"http://www.irs.gov/pub/irs-pdf/f1040a.pdf\",\n",
    "            \"http://www.irs.gov/pub/irs-pdf/f1040ez.pdf\",\n",
    "            \"http://www.irs.gov/pub/irs-pdf/f1040es.pdf\",\n",
    "            \"http://www.irs.gov/pub/irs-pdf/f1040sb.pdf\"]\n",
    "    initDownloads(urls)"
   ]
  },
  {
   "attachments": {},
   "cell_type": "markdown",
   "metadata": {},
   "source": [
    "# DateTime"
   ]
  },
  {
   "cell_type": "code",
   "execution_count": null,
   "metadata": {},
   "outputs": [],
   "source": [
    "from datetime import date\n",
    "print(date.today())"
   ]
  },
  {
   "cell_type": "code",
   "execution_count": null,
   "metadata": {},
   "outputs": [],
   "source": [
    "name = \"john doe\"\n",
    "print (f'{name}')"
   ]
  },
  {
   "cell_type": "code",
   "execution_count": null,
   "metadata": {},
   "outputs": [],
   "source": [
    "def returnAString() -> bool:\n",
    "    return \"Hello world\"\n",
    "\n",
    "if __name__ == \"__main__\":\n",
    "    print(returnAString())"
   ]
  },
  {
   "attachments": {},
   "cell_type": "markdown",
   "metadata": {},
   "source": [
    "# Config Obj a properties like parser"
   ]
  },
  {
   "cell_type": "code",
   "execution_count": 47,
   "metadata": {},
   "outputs": [
    {
     "name": "stdout",
     "output_type": "stream",
     "text": [
      "john doe\n"
     ]
    }
   ],
   "source": [
    "from configobj import ConfigObj\n",
    "\n",
    "def getConfigObj():\n",
    "    config = ConfigObj(\"./testConfigObj.ini\")\n",
    "    return config\n",
    "\n",
    "if __name__ == \"__main__\":\n",
    "    print(getConfigObj().get(\"name\"))\n",
    "    "
   ]
  },
  {
   "cell_type": "code",
   "execution_count": 68,
   "metadata": {},
   "outputs": [
    {
     "name": "stdout",
     "output_type": "stream",
     "text": [
      "john doe\n",
      "['1', '2', '3', '4', '5']\n",
      "2000\n",
      "1/1/2023 is a <class 'str'>\n"
     ]
    }
   ],
   "source": [
    "from configobj import ConfigObj\n",
    "class configLoader():\n",
    "    iniFile: None\n",
    "    def __init__(self) -> None:\n",
    "        iniFile = ConfigObj(\"./testConfigObj.ini\")\n",
    "    \n",
    "    @staticmethod\n",
    "    def conf(configProperty):\n",
    "        def getConfig(*args, **kwargs):\n",
    "            property = configProperty.__name__\n",
    "            # print(\"the value is %s\" % property)\n",
    "            config = ConfigObj(\"./testConfigObj.ini\")\n",
    "            return config.get(property)\n",
    "        return getConfig\n",
    "\n",
    "\n",
    "class testConfigObj():\n",
    "    @property\n",
    "    @configLoader.conf\n",
    "    def name():\n",
    "        pass\n",
    "\n",
    "    @property\n",
    "    @configLoader.conf\n",
    "    def versions():\n",
    "        pass\n",
    "\n",
    "    @property\n",
    "    @configLoader.conf\n",
    "    def limitInsecs():\n",
    "        pass\n",
    "    \n",
    "    @property\n",
    "    @configLoader.conf\n",
    "    def cutoff():\n",
    "        pass\n",
    "\n",
    "if __name__ == \"__main__\":\n",
    "    configObj = testConfigObj()\n",
    "    print(configObj.name)\n",
    "    print(configObj.versions)\n",
    "    print(configObj.limitInsecs)\n",
    "    print(configObj.cutoff, \"is a %s\" % type(configObj.cutoff))"
   ]
  }
 ],
 "metadata": {
  "kernelspec": {
   "display_name": "Python 3",
   "language": "python",
   "name": "python3"
  },
  "language_info": {
   "codemirror_mode": {
    "name": "ipython",
    "version": 3
   },
   "file_extension": ".py",
   "mimetype": "text/x-python",
   "name": "python",
   "nbconvert_exporter": "python",
   "pygments_lexer": "ipython3",
   "version": "3.11.3"
  },
  "orig_nbformat": 4,
  "vscode": {
   "interpreter": {
    "hash": "5c7b89af1651d0b8571dde13640ecdccf7d5a6204171d6ab33e7c296e100e08a"
   }
  }
 },
 "nbformat": 4,
 "nbformat_minor": 2
}
