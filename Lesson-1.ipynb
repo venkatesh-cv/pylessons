{
 "cells": [
  {
   "cell_type": "code",
   "execution_count": null,
   "metadata": {},
   "outputs": [],
   "source": [
    "greeting = \"hello world\"\n",
    "aNumber = 1\n",
    "aString = str(aNumber)\n",
    "anotherNumber = int(aString)\n",
    "print(greeting)\n",
    "print(aString)\n",
    "print(anotherNumber)\n",
    "print(anotherNumber == aNumber)\n",
    "print(aNumber == aString)\n",
    "print(id(aNumber))\n",
    "aNumber = 10\n",
    "print(id(aNumber))\n",
    "print(greeting.upper())\n",
    "print(\"hey there\".upper())\n",
    "print(greeting.capitalize())\n",
    "type(aNumber) == type(1)\n",
    "print(greeting.split(' 1')[0])\n",
    "print(\"%s and %s together is %s\" % ('hello', 'world', 'hello'+'world')) # note that % is an interpolation function quite literally like %(args...\n",
    "print(\"interpolation of %%s is %s\" % \"hi\") #  note how the paranthesis is skipped if there is just 1 argument.\n",
    "print(\"%i is an integer and %.2f is a float function\" %(1.0, 20000.0)) # note how the formats are all like C. \n",
    "print(\"%(name)s is %(age)i years old\" %({\"name\":\"VC\" ,\"age\": 48}))  # you could call the % function as a function or skip the brackets and pass the hash object directly since its just 1 arg.. the hash/key-value-pair-object"
   ]
  },
  {
   "cell_type": "code",
   "execution_count": null,
   "metadata": {},
   "outputs": [],
   "source": [
    "# lists in python are not type safe. Just like java List = new List() object\n",
    "my_list = []\n",
    "my_list = list()\n",
    "my_list = [1,2, \"hi\"]\n",
    "print(my_list)\n",
    "\n",
    "another_list = ['there', 23]\n",
    "my_list.extend(another_list)\n",
    "print(my_list)\n",
    "\n",
    "yet_another_list = [1,2,3]\n",
    "my_list += yet_another_list\n",
    "print(my_list)\n",
    "\n",
    "my_list.append(5)\n",
    "print(my_list)\n",
    "\n",
    "print(my_list[8])\n",
    "\n",
    "print(my_list.pop())\n",
    "print(my_list)\n",
    "\n",
    "print(my_list[0:3]) # array access of a list. Print 3 elements from 0th index\n",
    "print(my_list)\n",
    "\n",
    "print (\"length of the list my_list is %i\" % len(my_list)) # note the standalone function len"
   ]
  },
  {
   "cell_type": "code",
   "execution_count": null,
   "metadata": {},
   "outputs": [],
   "source": [
    "#tuples are immutable lists\n",
    "# they take up lesser memmory than Lists and are faster.\n",
    "# this is suitable for operations that fetch data from data sources.\n",
    "my_tuple = (1,2,\"hi\") # see how round brackets are used instead of square. \n",
    "print(my_tuple)\n",
    "print(my_tuple[0:2]) # this is like an array access of a list\n",
    "print(my_tuple)\n",
    "print(\"length of my tuple is %i\" % len(my_tuple))"
   ]
  },
  {
   "cell_type": "code",
   "execution_count": null,
   "metadata": {},
   "outputs": [],
   "source": [
    "#dictionaries are the key value pair objects\n",
    "akvpObject = dict()\n",
    "akvpObject = {\"name\":\"john\", \"age\":25}\n",
    "print (akvpObject)\n",
    "print(akvpObject[\"name\"])\n",
    "akvpObject.update({\"gender\": \"undefined\"})\n",
    "print(akvpObject[\"gender\"])\n",
    "print(akvpObject)\n",
    "print(\"Is there an entry for name in the dictionary %s\" % (\"name\" in akvpObject))\n",
    "print(\"SLOWER VERSION OF Is there an entry for name in the dictionary %s\" % (\"name\" in akvpObject.keys()))\n",
    "print(\"length of my key value pair dictionary is %i\" % len(akvpObject))"
   ]
  },
  {
   "cell_type": "code",
   "execution_count": null,
   "metadata": {},
   "outputs": [],
   "source": [
    "dir(\"greeting\") # prints the functions available for a number"
   ]
  },
  {
   "cell_type": "code",
   "execution_count": null,
   "metadata": {},
   "outputs": [],
   "source": [
    "# if else\n",
    "if 1 > 2 :\n",
    "    print(\"whoa whats up\")\n",
    "elif 2 > 3 :\n",
    "    print (\" of course its not true\")\n",
    "else: \n",
    "    print ('oh my god, stop it. Its not true')"
   ]
  },
  {
   "cell_type": "code",
   "execution_count": null,
   "metadata": {},
   "outputs": [],
   "source": [
    "# nulls nothing\n",
    "nothing = None \n",
    "empty = []\n",
    "gaali = ()\n",
    "sutham = {}\n",
    "\n",
    "print (nothing is None)\n",
    "if nothing or empty or gaali or sutham:\n",
    "    print(\"its not empty\")\n",
    "elif not empty or not gaali or not sutham:\n",
    "    print (\"its not empty\")\n",
    "else:\n",
    "    print(\"its empty\")"
   ]
  },
  {
   "cell_type": "code",
   "execution_count": null,
   "metadata": {},
   "outputs": [],
   "source": [
    "# use this only to run a module as a standalone file\n",
    "if __name__ == \"__main__\":\n",
    "    print(\"running in standalone mode\")\n",
    "    #call the main entry point or something"
   ]
  },
  {
   "cell_type": "code",
   "execution_count": null,
   "metadata": {},
   "outputs": [],
   "source": [
    "# for loops\n",
    "for number in range(5):\n",
    "    print (number)\n",
    "for number in range (4,20, 2):\n",
    "    print (number)\n",
    "\n",
    "for key in {\"name\":\"john\", \"age\":25, \"gender\":\"male\"}:\n",
    "    print(key)\n",
    "\n",
    "aDictionary = {\"name\":\"john\", \"age\":25, \"gender\":\"male\"}\n",
    "sortedKeys = sorted(aDictionary.keys()) # note the stand alone function sorted\n",
    "for key in sortedKeys:\n",
    "    print (key)\n",
    "    print (aDictionary[key])"
   ]
  },
  {
   "cell_type": "code",
   "execution_count": null,
   "metadata": {},
   "outputs": [],
   "source": [
    "#while loop\n",
    "i = 0\n",
    "while i < 10:\n",
    "    i += 1;\n",
    "    if (i == 5):\n",
    "        continue;\n",
    "    print (i)\n",
    "avengers = [\"hulk\", \"captain america\", \"iron man\", \"spider man\", \"captain marvel\", \"black widow\"]\n",
    "\n",
    "for member in avengers:\n",
    "    if (member.lower() == \"super man\"):\n",
    "        print (\"found a mistake. Super man is not an avenger\")\n",
    "        break;\n",
    "else:\n",
    "    print (\"all avengers are good\")"
   ]
  },
  {
   "cell_type": "code",
   "execution_count": null,
   "metadata": {},
   "outputs": [],
   "source": [
    "# comprehensions\n",
    "\n",
    "# List comprehensions\n",
    "x = [i for i in range(10)]   # creates a list of integers ranging 0 to 9\n",
    "\n",
    "characters = ['mary jane', 'peter parker', 'dr. octopus', 'sorry mary']\n",
    "if([name for name in characters if \"mary\" in name]): # this is similar to the forloop with an if condition checking if there is a name with mary in it and i fso adding it to a list that is returned and used in an if statement\n",
    "    print(\"Found 1 or more names\")\n",
    "\n",
    "maries = [name for name in characters if \"mary\" in name]\n",
    "print(maries)"
   ]
  },
  {
   "cell_type": "code",
   "execution_count": 94,
   "metadata": {},
   "outputs": [
    {
     "name": "stdout",
     "output_type": "stream",
     "text": [
      "{'peter parker': 'name', 25: 'age', 'male': 'gender'}\n"
     ]
    }
   ],
   "source": [
    "# comprehensions in dictionaries\n",
    "myDictionary  = {\"name\":\"peter parker\", \"age\":25, \"gender\":\"male\"}\n",
    "print ({value:key for key,value in myDictionary.items()}) # seee how the dictionary items are being emitted and flipped into a new dictionary"
   ]
  }
 ],
 "metadata": {
  "kernelspec": {
   "display_name": "Python 3",
   "language": "python",
   "name": "python3"
  },
  "language_info": {
   "codemirror_mode": {
    "name": "ipython",
    "version": 3
   },
   "file_extension": ".py",
   "mimetype": "text/x-python",
   "name": "python",
   "nbconvert_exporter": "python",
   "pygments_lexer": "ipython3",
   "version": "3.10.9 (main, Dec 15 2022, 17:11:09) [Clang 14.0.0 (clang-1400.0.29.202)]"
  },
  "orig_nbformat": 4,
  "vscode": {
   "interpreter": {
    "hash": "b0fa6594d8f4cbf19f97940f81e996739fb7646882a419484c72d19e05852a7e"
   }
  }
 },
 "nbformat": 4,
 "nbformat_minor": 2
}
